{
 "cells": [
  {
   "cell_type": "code",
   "execution_count": 1,
   "id": "a7b2f930-f95b-46c0-8fde-8f2a86eaedb3",
   "metadata": {
    "tags": []
   },
   "outputs": [],
   "source": [
    "#Task 1. Split the string."
   ]
  },
  {
   "cell_type": "code",
   "execution_count": 3,
   "id": "35574c2e-4906-41a4-9581-796f6d157a7a",
   "metadata": {
    "tags": []
   },
   "outputs": [
    {
     "name": "stdout",
     "output_type": "stream",
     "text": [
      "['Robin', 'Singh']\n"
     ]
    }
   ],
   "source": [
    "def splitter(str_1):\n",
    "    str_spl = str_1.split()\n",
    "    return print(str_spl)\n",
    "splitter('Robin Singh')"
   ]
  },
  {
   "cell_type": "code",
   "execution_count": 5,
   "id": "14659372-927c-4b96-a551-bb5d75810881",
   "metadata": {
    "tags": []
   },
   "outputs": [],
   "source": [
    "#Task 2. Count the thirst, and round it down. "
   ]
  },
  {
   "cell_type": "code",
   "execution_count": 8,
   "id": "e8c29072-d1b5-42ed-b51b-6e077b532b4c",
   "metadata": {
    "tags": []
   },
   "outputs": [
    {
     "name": "stdout",
     "output_type": "stream",
     "text": [
      "2\n"
     ]
    }
   ],
   "source": [
    "import math\n",
    "def rounding(time):\n",
    "    litres = math.floor(time * 0.5)\n",
    "    return print(litres)\n",
    "rounding(5)"
   ]
  },
  {
   "cell_type": "code",
   "execution_count": 12,
   "id": "0c3f229c-bb62-4c5e-bc86-af1b18232200",
   "metadata": {
    "tags": []
   },
   "outputs": [],
   "source": [
    "#Task 3. Make up the bakwards-list of integers."
   ]
  },
  {
   "cell_type": "code",
   "execution_count": 14,
   "id": "57900748-3714-47d8-ab32-d781240decce",
   "metadata": {
    "tags": []
   },
   "outputs": [
    {
     "name": "stdout",
     "output_type": "stream",
     "text": [
      "[2, 1]\n"
     ]
    }
   ],
   "source": [
    "def intlist(n):\n",
    "    if n > 0:\n",
    "        c = n\n",
    "        l_int = []\n",
    "        while c != 0:\n",
    "            l_int.append(c)\n",
    "            c -= 1\n",
    "        print(l_int)\n",
    "    else:\n",
    "        print(\"It shouldn't be less than zero\")\n",
    "intlist(2)"
   ]
  },
  {
   "cell_type": "code",
   "execution_count": 16,
   "id": "d3ede46d-38ae-494c-a0fa-205353b31f15",
   "metadata": {
    "tags": []
   },
   "outputs": [],
   "source": [
    "#Task 4. Return the era."
   ]
  },
  {
   "cell_type": "code",
   "execution_count": 19,
   "id": "1d99eb97-ec3b-4dee-9a3d-26021722011c",
   "metadata": {
    "tags": []
   },
   "outputs": [
    {
     "name": "stdout",
     "output_type": "stream",
     "text": [
      "1699 is in the 17th century\n"
     ]
    }
   ],
   "source": [
    "def century(year):\n",
    "    l_digit = []\n",
    "    for digit in str(year):\n",
    "        l_digit.append(digit)\n",
    "    cen_cor = int(l_digit[0] + l_digit[1]) + 1\n",
    "    return print(f'{year} is in the {cen_cor}th century')\n",
    "century(1699)"
   ]
  },
  {
   "cell_type": "code",
   "execution_count": 22,
   "id": "41eac572-0a0a-46da-8876-e07e27db3e21",
   "metadata": {
    "tags": []
   },
   "outputs": [],
   "source": [
    "#Task 5. Convert the number into the backwards-list. "
   ]
  },
  {
   "cell_type": "code",
   "execution_count": 24,
   "id": "4d251e0f-0496-4ab7-bc20-8ad74ca6974d",
   "metadata": {
    "tags": []
   },
   "outputs": [
    {
     "name": "stdout",
     "output_type": "stream",
     "text": [
      "[3, 1, 2, 3, 2, 1]\n"
     ]
    }
   ],
   "source": [
    "def inverse(number):\n",
    "    l_origin = []\n",
    "    for digit in str(number):\n",
    "        l_origin.append(int(digit))\n",
    "    kk = len(l_origin) - 1\n",
    "    for k in range(len(l_origin)):\n",
    "        if kk > int(len(l_origin) // 2 - 1):\n",
    "            n = l_origin[k]\n",
    "            l_origin[k] = l_origin[kk]\n",
    "            l_origin[kk] = n\n",
    "            kk -= 1\n",
    "    return print(l_origin)\n",
    "inverse(123213)"
   ]
  },
  {
   "cell_type": "code",
   "execution_count": 26,
   "id": "9773d3ba-2c8c-4362-b5aa-db38dce900f8",
   "metadata": {
    "tags": []
   },
   "outputs": [],
   "source": [
    "#Task 6. Make 2 types of matrices composing integers."
   ]
  },
  {
   "cell_type": "code",
   "execution_count": 28,
   "id": "a3a61537-8b05-426d-9069-b2a6beee83cc",
   "metadata": {
    "tags": []
   },
   "outputs": [],
   "source": [
    "#Case 1. A horizontal one."
   ]
  },
  {
   "cell_type": "code",
   "execution_count": 30,
   "id": "70d0373e-190a-487c-a9b8-43b6a2d8a445",
   "metadata": {
    "tags": []
   },
   "outputs": [
    {
     "name": "stdout",
     "output_type": "stream",
     "text": [
      "[1, 2, 3, 4, 5, 6]\n",
      "[6, 5, 4, 3, 2, 1]\n",
      "[1, 2, 3, 4, 5, 6]\n",
      "[6, 5, 4, 3, 2, 1]\n",
      "[1, 2, 3, 4, 5, 6]\n",
      "[6, 5, 4, 3, 2, 1]\n"
     ]
    }
   ],
   "source": [
    "def artificial_matrix(size):\n",
    "    l_main = []\n",
    "    for i in range(size):\n",
    "        l_nest = []\n",
    "        for j in range(1, size + 1):\n",
    "            l_nest.append(j)\n",
    "        l_main.append(l_nest)\n",
    "    for m in range(1, size + 1):\n",
    "        if m % 2 == 0:\n",
    "            l_main[m - 1].sort(reverse=True)\n",
    "    for l_elements in l_main:\n",
    "        print(l_elements)\n",
    "artificial_matrix(6)"
   ]
  },
  {
   "cell_type": "code",
   "execution_count": 32,
   "id": "379cefdf-d053-43dc-8223-5f1a6e96f84d",
   "metadata": {
    "tags": []
   },
   "outputs": [],
   "source": [
    "#Case 1. A vertical one."
   ]
  },
  {
   "cell_type": "code",
   "execution_count": 12,
   "id": "2d8dc810-1ed7-4e5d-8deb-60c3725eb0af",
   "metadata": {},
   "outputs": [
    {
     "name": "stdout",
     "output_type": "stream",
     "text": [
      "[1, 6, 1, 6, 1, 6]\n",
      "[2, 5, 2, 5, 2, 5]\n",
      "[3, 4, 3, 4, 3, 4]\n",
      "[4, 3, 4, 3, 4, 3]\n",
      "[5, 2, 5, 2, 5, 2]\n",
      "[6, 1, 6, 1, 6, 1]\n"
     ]
    }
   ],
   "source": [
    "def artificial_matrix(size):\n",
    "    l_main = []\n",
    "    for i in range(size):\n",
    "        l_main.append([0] * size)\n",
    "    for j in range(size):\n",
    "        if j % 2 == 0:\n",
    "            for i in range(size):\n",
    "                l_main[i][j] = i + 1\n",
    "        else:\n",
    "            for i in range(size):\n",
    "                l_main[i][j] = size - i\n",
    "    for l_elements in l_main:\n",
    "        print(l_elements)\n",
    "artificial_matrix(6)"
   ]
  },
  {
   "cell_type": "code",
   "execution_count": null,
   "id": "1dd9a43f-da3f-42c7-915f-253a3d043a0d",
   "metadata": {},
   "outputs": [],
   "source": []
  }
 ],
 "metadata": {
  "kernelspec": {
   "display_name": "Python 3 (ipykernel)",
   "language": "python",
   "name": "python3"
  },
  "language_info": {
   "codemirror_mode": {
    "name": "ipython",
    "version": 3
   },
   "file_extension": ".py",
   "mimetype": "text/x-python",
   "name": "python",
   "nbconvert_exporter": "python",
   "pygments_lexer": "ipython3",
   "version": "3.11.7"
  }
 },
 "nbformat": 4,
 "nbformat_minor": 5
}
