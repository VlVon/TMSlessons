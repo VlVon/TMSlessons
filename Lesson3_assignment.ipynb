{
 "cells": [
  {
   "cell_type": "code",
   "execution_count": 1,
   "id": "af5fcb95-379c-4c06-8d75-45c1d066f49c",
   "metadata": {
    "tags": []
   },
   "outputs": [],
   "source": [
    "#Task1. Sort the list (min to max) and calculate the score (general and particular)."
   ]
  },
  {
   "cell_type": "code",
   "execution_count": 45,
   "id": "96075726-f71e-43d6-8f44-75750d62f82e",
   "metadata": {
    "tags": []
   },
   "outputs": [
    {
     "name": "stdout",
     "output_type": "stream",
     "text": [
      "Min to max list: [-27, 0.5, 1, 1, 1, 2, 2, 3, 4, 8, 35, 69]\n",
      "The general score: 78\n",
      "The particular score: 38\n"
     ]
    }
   ],
   "source": [
    "a = [-27, 4, 35, 8, 1, 69, 2, 0.5, 1, 1, 2, 3]\n",
    "score = 0\n",
    "for i in range(len(a)):\n",
    "    for j in range(len(a)):\n",
    "        if a[i] < a[j]:\n",
    "            m = a[i]\n",
    "            a[i] = a[j]\n",
    "            a[j] = m\n",
    "            score += 1\n",
    "        else:\n",
    "            continue\n",
    "#Число итераций в общем виде скорее всего не совпадет с конкретным кейсом,\n",
    "#т.к. обмен может и сразу, и не сразу происходить. Теоретически это так будет выглядеть:\n",
    "#len(a) для 1 прохода, len(a) - 1 для второго и так далее до 1 (то есть прогрессия). \n",
    "#Сумма тогда: ((len(a) + 1) * len(a)) / 2 \n",
    "g_score = int(((len(a) + 1) * len(a)) / 2) \n",
    "print(f'Min to max list: {a}')\n",
    "print(f'The general score: {g_score}')\n",
    "print(f'The particular score: {score}')"
   ]
  },
  {
   "cell_type": "code",
   "execution_count": 47,
   "id": "003959c4-87a4-4705-8fe2-6defce03a8f3",
   "metadata": {
    "tags": []
   },
   "outputs": [],
   "source": [
    "#Task 2. Find solutions to the suggested equations."
   ]
  },
  {
   "cell_type": "code",
   "execution_count": 49,
   "id": "347af682-751c-411e-bb83-2f8070b52317",
   "metadata": {
    "tags": []
   },
   "outputs": [
    {
     "name": "stdout",
     "output_type": "stream",
     "text": [
      "Solutions to the suggested equation 1: 10.0, 2.0\n",
      "Solutions to the suggested equation 2: -8.0, -9.0\n",
      "Solutions to the suggested equation 3: 11.0, -4.0\n",
      "Solutions to the suggested equation 4: -1.0, -8.0\n",
      "Solutions to the suggested equation 5: 9.0, -7.0\n",
      "Solutions to the last equation: 3.0, -3.0 1.7320508075688772, -1.7320508075688772\n"
     ]
    }
   ],
   "source": [
    "coeff = [(1, -12, 20), (1, 17, 72), (1, -7, -44), (1, 9 ,8), (1, -2, -63), (1, 4, -5)]\n",
    "dumbscore = 0\n",
    "#Solutions to equations 1-5\n",
    "for c_index in range(len(coeff)-1):\n",
    "    discrim = (coeff[c_index][1]) ** 2 - 4 * coeff[c_index][0] * coeff[c_index][2]\n",
    "    sol1 = (-coeff[c_index][1] + discrim ** 0.5) / (2 * coeff[c_index][0])\n",
    "    sol2 = (-coeff[c_index][1] - discrim ** 0.5) / (2 * coeff[c_index][0])\n",
    "    dumbscore += 1\n",
    "    print(f'Solutions to the suggested equation {dumbscore}: {sol1}, {sol2}')\n",
    "#Solutions to the equation 6\n",
    "discrim = (coeff[5][1]) ** 2 - 4 * coeff[5][0] * coeff[5][2]\n",
    "subsol1 = (-coeff[5][1] + discrim ** 0.5) / (2 * coeff[5][0])\n",
    "subsol2 = (-coeff[5][1] - discrim ** 0.5) / (2 * coeff[5][0])\n",
    "sol1 = (subsol1 + 8) ** 0.5\n",
    "sol2 = (subsol2 + 8) ** 0.5\n",
    "print(f'Solutions to the last equation: {sol1}, {-sol1} {sol2}, {-sol2}')"
   ]
  },
  {
   "cell_type": "code",
   "execution_count": 51,
   "id": "4ed841b1-f390-4c9f-840c-fb86887d2536",
   "metadata": {
    "tags": []
   },
   "outputs": [],
   "source": [
    "#Task3. Sort the list in inverse order."
   ]
  },
  {
   "cell_type": "code",
   "execution_count": 53,
   "id": "c2194d0b-5a56-43bd-b87f-ce294e676776",
   "metadata": {
    "tags": []
   },
   "outputs": [
    {
     "name": "stdout",
     "output_type": "stream",
     "text": [
      "Inverse order list: [6, 5, 4, 3, 2, 1]\n"
     ]
    }
   ],
   "source": [
    "b = [1, 2, 3, 4, 5, 6]\n",
    "kk = len(b) - 1\n",
    "for k in range(len(b)):\n",
    "    if kk > int(len(b) // 2 - 1):\n",
    "        n = b[k]\n",
    "        b[k] = b[kk]\n",
    "        b[kk] = n\n",
    "        kk -= 1\n",
    "print(f'Inverse order list: {b}')"
   ]
  },
  {
   "cell_type": "code",
   "execution_count": 55,
   "id": "e094579e-447c-4896-b358-d05eace80f29",
   "metadata": {
    "tags": []
   },
   "outputs": [],
   "source": [
    "#Task4. Make up a function changing the 1st and the last element of the list."
   ]
  },
  {
   "cell_type": "code",
   "execution_count": 57,
   "id": "a436eb84-f627-47c5-9090-db2a7a4d4603",
   "metadata": {
    "tags": []
   },
   "outputs": [
    {
     "name": "stdout",
     "output_type": "stream",
     "text": [
      "Let's replace it like that: [8, 2, 5]\n"
     ]
    }
   ],
   "source": [
    "lst = [5, 2, 8]\n",
    "def change(lst):\n",
    "    if len(lst) > 1:\n",
    "        subst = lst[0]\n",
    "        lst[0] = lst[len(lst) - 1]\n",
    "        lst[len(lst) - 1] = subst\n",
    "        return print(f\"Let's replace it like that: {lst}\")\n",
    "    else:\n",
    "        print(\"Don't even try to mess with me\")\n",
    "change(lst)"
   ]
  },
  {
   "cell_type": "code",
   "execution_count": 59,
   "id": "97ec5a30-a255-4634-a9ec-07beb46a478b",
   "metadata": {
    "tags": []
   },
   "outputs": [],
   "source": [
    "#Task5. Find a useless number making up a useless function (just find a max and divide it by the length of the list)."
   ]
  },
  {
   "cell_type": "code",
   "execution_count": 61,
   "id": "5993eb43-8971-4fdf-bb3a-138e29f49f64",
   "metadata": {
    "tags": []
   },
   "outputs": [
    {
     "name": "stdout",
     "output_type": "stream",
     "text": [
      "It's still useless. Enjoy the result: 742.6666666666666\n"
     ]
    }
   ],
   "source": [
    "def useless(s):\n",
    "    huge_div = max(s) / len(s)\n",
    "    return print(f\"It's still useless. Enjoy the result: {huge_div}\")\n",
    "useless([1, 2, 4456, 0.5, 4, -7])"
   ]
  },
  {
   "cell_type": "code",
   "execution_count": 63,
   "id": "6e175c51-db82-4011-acae-5a24d9d8faae",
   "metadata": {
    "tags": []
   },
   "outputs": [],
   "source": [
    "#Task6. Feed up your internal vihuhol'. Find the string with the max length in a list and add up '_' to others to make them equal.  "
   ]
  },
  {
   "cell_type": "code",
   "execution_count": 65,
   "id": "8f8412e3-204f-41fd-869b-181412aca7c9",
   "metadata": {
    "tags": []
   },
   "outputs": [
    {
     "name": "stdout",
     "output_type": "stream",
     "text": [
      "['mole____', 'squirrel', 'muscrat_', 'cat_____']\n"
     ]
    }
   ],
   "source": [
    "animals = ['mole', 'squirrel', 'muscrat', 'cat']\n",
    "def all_eq(animals):\n",
    "    for an_i in range(len(animals)):\n",
    "        for an_j in range(len(animals)):\n",
    "            while len(animals[an_i]) < len(animals[an_j]):\n",
    "                animals[an_i] += '_'\n",
    "    return print(animals)\n",
    "all_eq(animals)"
   ]
  },
  {
   "cell_type": "code",
   "execution_count": null,
   "id": "8656fcdd-964c-4e1c-9df0-6dfca9aec970",
   "metadata": {},
   "outputs": [],
   "source": []
  },
  {
   "cell_type": "code",
   "execution_count": null,
   "id": "649a495b-137c-4bad-9732-7c1114175a97",
   "metadata": {},
   "outputs": [],
   "source": []
  }
 ],
 "metadata": {
  "kernelspec": {
   "display_name": "Python 3 (ipykernel)",
   "language": "python",
   "name": "python3"
  },
  "language_info": {
   "codemirror_mode": {
    "name": "ipython",
    "version": 3
   },
   "file_extension": ".py",
   "mimetype": "text/x-python",
   "name": "python",
   "nbconvert_exporter": "python",
   "pygments_lexer": "ipython3",
   "version": "3.11.7"
  }
 },
 "nbformat": 4,
 "nbformat_minor": 5
}
