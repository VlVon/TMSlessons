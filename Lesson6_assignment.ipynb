{
 "cells": [
  {
   "cell_type": "code",
   "execution_count": 1,
   "id": "2e7fea34-759b-49d1-86a5-bd816218ece4",
   "metadata": {
    "tags": []
   },
   "outputs": [],
   "source": [
    "#Task 1. Calculate max and min of the string."
   ]
  },
  {
   "cell_type": "code",
   "execution_count": 3,
   "id": "ce789ee1-51fd-487f-a041-e886f3e94482",
   "metadata": {
    "tags": []
   },
   "outputs": [
    {
     "name": "stdout",
     "output_type": "stream",
     "text": [
      "Max of the string is 6, and min of the string is 1\n"
     ]
    }
   ],
   "source": [
    "s = '1 2 3 4 5 6'\n",
    "print(f'Max of the string is {max(list(map(int, list(s.split()))))},'\n",
    "      f' and min of the string is {min(list(map(int, list(s.split()))))}')"
   ]
  },
  {
   "cell_type": "code",
   "execution_count": 5,
   "id": "99514d69-f303-44fa-95f6-2e2b23286975",
   "metadata": {
    "tags": []
   },
   "outputs": [],
   "source": [
    "#Task 2. Asses the PIN (it should consist of 4 or 6 digits)."
   ]
  },
  {
   "cell_type": "code",
   "execution_count": 7,
   "id": "6b988b56-6da4-4b37-a0d9-80f372e9e9d5",
   "metadata": {
    "tags": []
   },
   "outputs": [
    {
     "name": "stdout",
     "output_type": "stream",
     "text": [
      "True\n"
     ]
    }
   ],
   "source": [
    "def pin_true(pin):\n",
    "    if len(pin) == 4 or len(pin) == 6:\n",
    "        return True\n",
    "    else:\n",
    "        return False\n",
    "print(pin_true('123456'))"
   ]
  },
  {
   "cell_type": "code",
   "execution_count": 9,
   "id": "d3485345-b7cc-4b62-8a82-8617d5883a2b",
   "metadata": {
    "tags": []
   },
   "outputs": [],
   "source": [
    "#Task 3. Decide whether the number is a square-type or not."
   ]
  },
  {
   "cell_type": "code",
   "execution_count": 11,
   "id": "10905d22-c26c-478a-aa3e-e731ce29612c",
   "metadata": {
    "tags": []
   },
   "outputs": [
    {
     "name": "stdout",
     "output_type": "stream",
     "text": [
      "[4, 12]\n"
     ]
    }
   ],
   "source": [
    "def square(lst):\n",
    "    print(list(map(int, filter(lambda x: x % 2 == 0, map(lambda x: x ** 0.5, lst)))))\n",
    "square([15, 16, 144, 28])"
   ]
  },
  {
   "cell_type": "code",
   "execution_count": 13,
   "id": "ffaf9105-1354-409d-9d4b-bd67e19ad8bc",
   "metadata": {
    "tags": []
   },
   "outputs": [],
   "source": [
    "#Task 4. Return the sequence without any ajacent repetitions. "
   ]
  },
  {
   "cell_type": "code",
   "execution_count": 15,
   "id": "85b929e8-a9f0-4897-9516-ea02d819a7af",
   "metadata": {
    "tags": []
   },
   "outputs": [
    {
     "name": "stdout",
     "output_type": "stream",
     "text": [
      "[1, 2, 7, 8, 2, 4, 5]\n"
     ]
    }
   ],
   "source": [
    "def unique_in_order(sequence):\n",
    "    b = []\n",
    "    for i in range(len(sequence)):\n",
    "        if sequence[i] != sequence[i - 1]:\n",
    "            b.append(sequence[i])\n",
    "    return print(b)\n",
    "unique_in_order([1, 2, 7, 7, 8, 2, 4, 4, 4, 5])"
   ]
  },
  {
   "cell_type": "code",
   "execution_count": 17,
   "id": "431af15e-df68-4c2c-b986-002760f4dca9",
   "metadata": {
    "tags": []
   },
   "outputs": [],
   "source": [
    "#Task 5. Make the output be the length of the shortest word in a string."
   ]
  },
  {
   "cell_type": "code",
   "execution_count": 19,
   "id": "2f2771f8-a731-49ef-a3b2-3b14ef060f4d",
   "metadata": {
    "tags": []
   },
   "outputs": [
    {
     "name": "stdout",
     "output_type": "stream",
     "text": [
      "1\n"
     ]
    }
   ],
   "source": [
    "def shortest(string):\n",
    "    result = min([len(x) for x in string.split()])\n",
    "    print(result)\n",
    "shortest('Freek ed elkl el lwfm lleklekfl e')"
   ]
  },
  {
   "cell_type": "code",
   "execution_count": 21,
   "id": "1c9b5887-0f41-4642-840d-d0ff4994e342",
   "metadata": {
    "tags": []
   },
   "outputs": [],
   "source": [
    "#Task 6. Add the digits inside the number until it consists of the only digit."
   ]
  },
  {
   "cell_type": "code",
   "execution_count": 23,
   "id": "da0b4adc-2d20-44e1-a423-b84e85883e9f",
   "metadata": {
    "tags": []
   },
   "outputs": [
    {
     "name": "stdout",
     "output_type": "stream",
     "text": [
      "1\n"
     ]
    }
   ],
   "source": [
    "from functools import reduce\n",
    "def recursion(n):\n",
    "    while len(str(n)) > 1:\n",
    "        s = reduce(lambda x, y: x + y, list(map(int, str(n))))\n",
    "        n = s\n",
    "    return print(n)\n",
    "recursion(895955959)"
   ]
  },
  {
   "cell_type": "code",
   "execution_count": 25,
   "id": "ee0ed73a-3e45-4a5b-bb3f-0d6f88951b52",
   "metadata": {
    "tags": []
   },
   "outputs": [],
   "source": [
    "#Task 7. Depict the letters in the middle of the word (1 for odd length, 2 for the even one)."
   ]
  },
  {
   "cell_type": "code",
   "execution_count": 27,
   "id": "cbcb511f-10eb-425a-91f2-4bf6b685599d",
   "metadata": {
    "tags": []
   },
   "outputs": [
    {
     "name": "stdout",
     "output_type": "stream",
     "text": [
      "or\n"
     ]
    }
   ],
   "source": [
    "def middle(word):\n",
    "    for i in range(len(word)):\n",
    "        if len(word) % 2 != 0:\n",
    "            return print(word[int(len(word) / 2)])\n",
    "        else:\n",
    "            return print(word[int(len(word) / 2 - 1)] + word[int(len(word) / 2)])\n",
    "middle('Gord')"
   ]
  },
  {
   "cell_type": "code",
   "execution_count": 29,
   "id": "20959b1e-0651-481c-bf10-079d692e57ba",
   "metadata": {
    "tags": []
   },
   "outputs": [],
   "source": [
    "#Task 8. Decide whether the number is simple or not."
   ]
  },
  {
   "cell_type": "code",
   "execution_count": 31,
   "id": "54ef3b30-14b8-4634-8f07-041706cba41b",
   "metadata": {
    "tags": []
   },
   "outputs": [
    {
     "name": "stdout",
     "output_type": "stream",
     "text": [
      "False\n"
     ]
    }
   ],
   "source": [
    "def simple(num):\n",
    "    for i in range(2,10):\n",
    "        if num == i:\n",
    "            continue\n",
    "        if num > 1 and num % i != 0:\n",
    "            return True\n",
    "        else:\n",
    "            return False\n",
    "print(simple(22))"
   ]
  },
  {
   "cell_type": "code",
   "execution_count": 33,
   "id": "1d671662-72c8-4532-a0f8-5d2be2742385",
   "metadata": {
    "tags": []
   },
   "outputs": [],
   "source": [
    "#Task 9. According to the list, make a conclusion about the odd-|even-ness of the sum of the list."
   ]
  },
  {
   "cell_type": "code",
   "execution_count": 35,
   "id": "88f83c9a-0959-4f66-8e50-0f5df874d960",
   "metadata": {
    "tags": []
   },
   "outputs": [
    {
     "name": "stdout",
     "output_type": "stream",
     "text": [
      "Even\n"
     ]
    }
   ],
   "source": [
    "from functools import reduce\n",
    "def evenodd(lst9):\n",
    "    if reduce(lambda x, y: x + y, lst9) % 2 == 0:\n",
    "        return print('Even')\n",
    "    else:\n",
    "        return print('Odd')\n",
    "evenodd([2, 8, 99, 54, -2, -8, 4, 5, 0])"
   ]
  },
  {
   "cell_type": "code",
   "execution_count": 37,
   "id": "866ad24d-2835-47f3-891c-86261024b4ca",
   "metadata": {
    "tags": []
   },
   "outputs": [],
   "source": [
    "#Task 10. Filter (and sum up) the ones in the shape of the hourglass. "
   ]
  },
  {
   "cell_type": "code",
   "execution_count": 39,
   "id": "d164a28f-574d-49f8-96d3-c754a03bfccc",
   "metadata": {
    "tags": []
   },
   "outputs": [
    {
     "name": "stdout",
     "output_type": "stream",
     "text": [
      "[1, 1, 1, 1, 1]\n",
      "[0, 1, 1, 1, 0]\n",
      "[0, 0, 1, 0, 0]\n",
      "[0, 1, 1, 1, 0]\n",
      "[1, 1, 1, 1, 1]\n",
      "The sum of ones is equal to 17\n"
     ]
    }
   ],
   "source": [
    "from functools import reduce\n",
    "def hourglass_filter(size):\n",
    "    lst_1 = []\n",
    "    summ = 0\n",
    "    for i in range(1, size + 1):\n",
    "        lst_temp = []\n",
    "        for j in range(1, size + 1):\n",
    "            if i <= size // 2 + 1:\n",
    "                if j >= i and j <= size - i + 1:\n",
    "                    lst_temp.append(1)\n",
    "                else:\n",
    "                    lst_temp.append(0)\n",
    "            else:\n",
    "                if j >= size - i + 1 and j <= i:\n",
    "                    lst_temp.append(1)\n",
    "                else:\n",
    "                    lst_temp.append(0)\n",
    "        lst_1.append(lst_temp)\n",
    "    for final_look in lst_1:\n",
    "        summ += reduce(lambda x,y: x + y, list(filter(lambda x: x > 0, final_look)))\n",
    "        #Technically, we could sum them up previously, after appending, but in any case\n",
    "        print(final_look)\n",
    "    print(f'The sum of ones is equal to {summ}')\n",
    "hourglass_filter(5)"
   ]
  },
  {
   "cell_type": "code",
   "execution_count": null,
   "id": "9ce4634f-ab70-4283-a2af-02c668bcdf7d",
   "metadata": {},
   "outputs": [],
   "source": []
  }
 ],
 "metadata": {
  "kernelspec": {
   "display_name": "Python 3 (ipykernel)",
   "language": "python",
   "name": "python3"
  },
  "language_info": {
   "codemirror_mode": {
    "name": "ipython",
    "version": 3
   },
   "file_extension": ".py",
   "mimetype": "text/x-python",
   "name": "python",
   "nbconvert_exporter": "python",
   "pygments_lexer": "ipython3",
   "version": "3.11.7"
  }
 },
 "nbformat": 4,
 "nbformat_minor": 5
}
