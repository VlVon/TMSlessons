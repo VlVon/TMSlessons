{
 "cells": [
  {
   "cell_type": "code",
   "execution_count": 1,
   "metadata": {
    "tags": []
   },
   "outputs": [],
   "source": [
    "#Create 4 data-filled tables, and organise queries  "
   ]
  },
  {
   "cell_type": "code",
   "execution_count": 2,
   "metadata": {
    "tags": []
   },
   "outputs": [
    {
     "name": "stdout",
     "output_type": "stream",
     "text": [
      "Requirement already satisfied: sqlalchemy in d:\\ds_programms\\lib\\site-packages (2.0.25)\n",
      "Requirement already satisfied: typing-extensions>=4.6.0 in d:\\ds_programms\\lib\\site-packages (from sqlalchemy) (4.9.0)\n",
      "Requirement already satisfied: greenlet!=0.4.17 in d:\\ds_programms\\lib\\site-packages (from sqlalchemy) (3.0.1)\n",
      "Note: you may need to restart the kernel to use updated packages.\n"
     ]
    }
   ],
   "source": [
    "%pip install sqlalchemy"
   ]
  },
  {
   "cell_type": "code",
   "execution_count": 3,
   "metadata": {
    "tags": []
   },
   "outputs": [],
   "source": [
    "import sqlalchemy as db"
   ]
  },
  {
   "cell_type": "code",
   "execution_count": 4,
   "metadata": {
    "tags": []
   },
   "outputs": [],
   "source": [
    "#Create an engine"
   ]
  },
  {
   "cell_type": "code",
   "execution_count": 5,
   "metadata": {
    "tags": []
   },
   "outputs": [],
   "source": [
    "engine = db.create_engine('sqlite:///lesson10.db')"
   ]
  },
  {
   "cell_type": "code",
   "execution_count": 6,
   "metadata": {
    "tags": []
   },
   "outputs": [],
   "source": [
    "#Connect to the engine"
   ]
  },
  {
   "cell_type": "code",
   "execution_count": 7,
   "metadata": {
    "tags": []
   },
   "outputs": [],
   "source": [
    "conn = engine.connect()"
   ]
  },
  {
   "cell_type": "code",
   "execution_count": 8,
   "metadata": {
    "tags": []
   },
   "outputs": [],
   "source": [
    "#Create metadata-structure"
   ]
  },
  {
   "cell_type": "code",
   "execution_count": 40,
   "metadata": {
    "tags": []
   },
   "outputs": [],
   "source": [
    "metadata = db.MetaData()"
   ]
  },
  {
   "cell_type": "code",
   "execution_count": 10,
   "metadata": {
    "tags": []
   },
   "outputs": [],
   "source": [
    "#Create 4 tables related to spotify(users, playlists, songs, artists) "
   ]
  },
  {
   "cell_type": "code",
   "execution_count": 42,
   "metadata": {
    "tags": []
   },
   "outputs": [
    {
     "data": {
      "text/plain": [
       "Table('users', MetaData(), Column('user_id', Integer(), table=<users>, primary_key=True, nullable=False), Column('username', Text(), table=<users>), Column('email', Text(), table=<users>), Column('password', Text(), table=<users>), Column('region', Text(), table=<users>), Column('sub_period', Integer(), table=<users>), schema=None)"
      ]
     },
     "execution_count": 42,
     "metadata": {},
     "output_type": "execute_result"
    }
   ],
   "source": [
    "users = db.Table(\n",
    "    'users', metadata, \n",
    "    db.Column('user_id', db.Integer, primary_key=True),\n",
    "    db.Column('username', db.Text),\n",
    "    db.Column('email', db.Text),\n",
    "    db.Column('password', db.Text),\n",
    "    db.Column('region', db.Text),\n",
    "    db.Column('sub_period', db.Integer)\n",
    ")\n",
    "users"
   ]
  },
  {
   "cell_type": "code",
   "execution_count": 44,
   "metadata": {
    "tags": []
   },
   "outputs": [
    {
     "data": {
      "text/plain": [
       "Table('playlists', MetaData(), Column('playlist_id', Integer(), table=<playlists>, primary_key=True, nullable=False), Column('user_id', Integer(), table=<playlists>), Column('name', Text(), table=<playlists>), Column('description', Text(), table=<playlists>), schema=None)"
      ]
     },
     "execution_count": 44,
     "metadata": {},
     "output_type": "execute_result"
    }
   ],
   "source": [
    "playlists = db.Table(\n",
    "    'playlists', metadata,\n",
    "    db.Column('playlist_id', db.Integer, primary_key=True),\n",
    "    db.Column('user_id', db.Integer),\n",
    "    db.Column('name', db.Text),\n",
    "    db.Column('description', db.Text),\n",
    ")\n",
    "playlists"
   ]
  },
  {
   "cell_type": "code",
   "execution_count": 46,
   "metadata": {
    "tags": []
   },
   "outputs": [
    {
     "data": {
      "text/plain": [
       "Table('songs', MetaData(), Column('song_id', Integer(), table=<songs>, primary_key=True, nullable=False), Column('artist_id', Integer(), table=<songs>), Column('genre', Text(), table=<songs>), Column('album', Text(), table=<songs>), Column('duration', Integer(), table=<songs>), Column('release_date', Integer(), table=<songs>), schema=None)"
      ]
     },
     "execution_count": 46,
     "metadata": {},
     "output_type": "execute_result"
    }
   ],
   "source": [
    "songs = db.Table(\n",
    "    'songs', metadata,\n",
    "    db.Column('song_id', db.Integer, primary_key=True),\n",
    "    db.Column('artist_id', db.Integer),\n",
    "    db.Column('genre', db.Text),\n",
    "    db.Column('album', db.Text),\n",
    "    db.Column('duration', db.Integer),\n",
    "    db.Column('release_date', db.Integer),\n",
    ")\n",
    "songs"
   ]
  },
  {
   "cell_type": "code",
   "execution_count": 48,
   "metadata": {
    "tags": []
   },
   "outputs": [
    {
     "data": {
      "text/plain": [
       "Table('artists', MetaData(), Column('artist_id', Integer(), table=<artists>, primary_key=True, nullable=False), Column('name', Text(), table=<artists>), Column('genre', Text(), table=<artists>), Column('bio', Text(), table=<artists>), schema=None)"
      ]
     },
     "execution_count": 48,
     "metadata": {},
     "output_type": "execute_result"
    }
   ],
   "source": [
    "artists = db.Table(\n",
    "    'artists', metadata,\n",
    "    db.Column('artist_id', db.Integer, primary_key=True),\n",
    "    db.Column('name', db.Text),\n",
    "    db.Column('genre', db.Text),\n",
    "    db.Column('bio', db.Text),\n",
    ")\n",
    "artists"
   ]
  },
  {
   "cell_type": "code",
   "execution_count": 50,
   "metadata": {
    "scrolled": true,
    "tags": []
   },
   "outputs": [],
   "source": [
    "metadata.create_all(engine)"
   ]
  },
  {
   "cell_type": "code",
   "execution_count": 16,
   "metadata": {
    "tags": []
   },
   "outputs": [],
   "source": [
    "#Fill tables with some random values"
   ]
  },
  {
   "cell_type": "code",
   "execution_count": 54,
   "metadata": {
    "collapsed": true,
    "jupyter": {
     "outputs_hidden": true
    },
    "tags": []
   },
   "outputs": [
    {
     "ename": "IntegrityError",
     "evalue": "(sqlite3.IntegrityError) UNIQUE constraint failed: users.user_id\n[SQL: INSERT INTO users (user_id, username, email, password, region, sub_period) VALUES (?, ?, ?, ?, ?, ?), (?, ?, ?, ?, ?, ?), (?, ?, ?, ?, ?, ?), (?, ?, ?, ?, ?, ?), (?, ?, ?, ?, ?, ?), (?, ?, ?, ?, ?, ?), (?, ?, ?, ?, ?, ?)]\n[parameters: (1, 'user1', 'user1@gmail.com', 'pass1', 'North America', 12, 2, 'user2', 'user2@yandex.ru', 'pass2', 'Europe', 3, 3, 'user3', 'user3@yahoo.com', 'pass3', 'South America', 6, 4, 'user4', 'user4@proton.me', 'pass4', 'Europe', 1, 5, 'user5', 'user5@yandex.ru', 'pass5', 'Asia', 12, 6, 'user6', 'user6@gmail.com', 'pass6', 'Africa', 6, 7, 'user7', 'user7@yahoo.com', 'pass7', 'Europe', 12)]\n(Background on this error at: https://sqlalche.me/e/20/gkpj)",
     "output_type": "error",
     "traceback": [
      "\u001b[1;31m---------------------------------------------------------------------------\u001b[0m",
      "\u001b[1;31mIntegrityError\u001b[0m                            Traceback (most recent call last)",
      "File \u001b[1;32mD:\\DS_programms\\Lib\\site-packages\\sqlalchemy\\engine\\base.py:1969\u001b[0m, in \u001b[0;36mConnection._exec_single_context\u001b[1;34m(self, dialect, context, statement, parameters)\u001b[0m\n\u001b[0;32m   1968\u001b[0m     \u001b[38;5;28;01mif\u001b[39;00m \u001b[38;5;129;01mnot\u001b[39;00m evt_handled:\n\u001b[1;32m-> 1969\u001b[0m         \u001b[38;5;28mself\u001b[39m\u001b[38;5;241m.\u001b[39mdialect\u001b[38;5;241m.\u001b[39mdo_execute(\n\u001b[0;32m   1970\u001b[0m             cursor, str_statement, effective_parameters, context\n\u001b[0;32m   1971\u001b[0m         )\n\u001b[0;32m   1973\u001b[0m \u001b[38;5;28;01mif\u001b[39;00m \u001b[38;5;28mself\u001b[39m\u001b[38;5;241m.\u001b[39m_has_events \u001b[38;5;129;01mor\u001b[39;00m \u001b[38;5;28mself\u001b[39m\u001b[38;5;241m.\u001b[39mengine\u001b[38;5;241m.\u001b[39m_has_events:\n",
      "File \u001b[1;32mD:\\DS_programms\\Lib\\site-packages\\sqlalchemy\\engine\\default.py:922\u001b[0m, in \u001b[0;36mDefaultDialect.do_execute\u001b[1;34m(self, cursor, statement, parameters, context)\u001b[0m\n\u001b[0;32m    921\u001b[0m \u001b[38;5;28;01mdef\u001b[39;00m \u001b[38;5;21mdo_execute\u001b[39m(\u001b[38;5;28mself\u001b[39m, cursor, statement, parameters, context\u001b[38;5;241m=\u001b[39m\u001b[38;5;28;01mNone\u001b[39;00m):\n\u001b[1;32m--> 922\u001b[0m     cursor\u001b[38;5;241m.\u001b[39mexecute(statement, parameters)\n",
      "\u001b[1;31mIntegrityError\u001b[0m: UNIQUE constraint failed: users.user_id",
      "\nThe above exception was the direct cause of the following exception:\n",
      "\u001b[1;31mIntegrityError\u001b[0m                            Traceback (most recent call last)",
      "Cell \u001b[1;32mIn[54], line 10\u001b[0m\n\u001b[0;32m      1\u001b[0m ins_users \u001b[38;5;241m=\u001b[39m users\u001b[38;5;241m.\u001b[39minsert()\u001b[38;5;241m.\u001b[39mvalues([\n\u001b[0;32m      2\u001b[0m     {\u001b[38;5;124m'\u001b[39m\u001b[38;5;124muser_id\u001b[39m\u001b[38;5;124m'\u001b[39m: \u001b[38;5;241m1\u001b[39m, \u001b[38;5;124m'\u001b[39m\u001b[38;5;124musername\u001b[39m\u001b[38;5;124m'\u001b[39m: \u001b[38;5;124m'\u001b[39m\u001b[38;5;124muser1\u001b[39m\u001b[38;5;124m'\u001b[39m, \u001b[38;5;124m'\u001b[39m\u001b[38;5;124memail\u001b[39m\u001b[38;5;124m'\u001b[39m: \u001b[38;5;124m'\u001b[39m\u001b[38;5;124muser1@gmail.com\u001b[39m\u001b[38;5;124m'\u001b[39m, \u001b[38;5;124m'\u001b[39m\u001b[38;5;124mpassword\u001b[39m\u001b[38;5;124m'\u001b[39m: \u001b[38;5;124m'\u001b[39m\u001b[38;5;124mpass1\u001b[39m\u001b[38;5;124m'\u001b[39m, \u001b[38;5;124m'\u001b[39m\u001b[38;5;124mregion\u001b[39m\u001b[38;5;124m'\u001b[39m: \u001b[38;5;124m'\u001b[39m\u001b[38;5;124mNorth America\u001b[39m\u001b[38;5;124m'\u001b[39m, \u001b[38;5;124m'\u001b[39m\u001b[38;5;124msub_period\u001b[39m\u001b[38;5;124m'\u001b[39m: \u001b[38;5;241m12\u001b[39m},\n\u001b[0;32m      3\u001b[0m     {\u001b[38;5;124m'\u001b[39m\u001b[38;5;124muser_id\u001b[39m\u001b[38;5;124m'\u001b[39m: \u001b[38;5;241m2\u001b[39m, \u001b[38;5;124m'\u001b[39m\u001b[38;5;124musername\u001b[39m\u001b[38;5;124m'\u001b[39m: \u001b[38;5;124m'\u001b[39m\u001b[38;5;124muser2\u001b[39m\u001b[38;5;124m'\u001b[39m, \u001b[38;5;124m'\u001b[39m\u001b[38;5;124memail\u001b[39m\u001b[38;5;124m'\u001b[39m: \u001b[38;5;124m'\u001b[39m\u001b[38;5;124muser2@yandex.ru\u001b[39m\u001b[38;5;124m'\u001b[39m, \u001b[38;5;124m'\u001b[39m\u001b[38;5;124mpassword\u001b[39m\u001b[38;5;124m'\u001b[39m: \u001b[38;5;124m'\u001b[39m\u001b[38;5;124mpass2\u001b[39m\u001b[38;5;124m'\u001b[39m, \u001b[38;5;124m'\u001b[39m\u001b[38;5;124mregion\u001b[39m\u001b[38;5;124m'\u001b[39m: \u001b[38;5;124m'\u001b[39m\u001b[38;5;124mEurope\u001b[39m\u001b[38;5;124m'\u001b[39m, \u001b[38;5;124m'\u001b[39m\u001b[38;5;124msub_period\u001b[39m\u001b[38;5;124m'\u001b[39m: \u001b[38;5;241m3\u001b[39m},\n\u001b[1;32m   (...)\u001b[0m\n\u001b[0;32m      8\u001b[0m     {\u001b[38;5;124m'\u001b[39m\u001b[38;5;124muser_id\u001b[39m\u001b[38;5;124m'\u001b[39m: \u001b[38;5;241m7\u001b[39m, \u001b[38;5;124m'\u001b[39m\u001b[38;5;124musername\u001b[39m\u001b[38;5;124m'\u001b[39m: \u001b[38;5;124m'\u001b[39m\u001b[38;5;124muser7\u001b[39m\u001b[38;5;124m'\u001b[39m, \u001b[38;5;124m'\u001b[39m\u001b[38;5;124memail\u001b[39m\u001b[38;5;124m'\u001b[39m: \u001b[38;5;124m'\u001b[39m\u001b[38;5;124muser7@yahoo.com\u001b[39m\u001b[38;5;124m'\u001b[39m, \u001b[38;5;124m'\u001b[39m\u001b[38;5;124mpassword\u001b[39m\u001b[38;5;124m'\u001b[39m: \u001b[38;5;124m'\u001b[39m\u001b[38;5;124mpass7\u001b[39m\u001b[38;5;124m'\u001b[39m, \u001b[38;5;124m'\u001b[39m\u001b[38;5;124mregion\u001b[39m\u001b[38;5;124m'\u001b[39m: \u001b[38;5;124m'\u001b[39m\u001b[38;5;124mEurope\u001b[39m\u001b[38;5;124m'\u001b[39m, \u001b[38;5;124m'\u001b[39m\u001b[38;5;124msub_period\u001b[39m\u001b[38;5;124m'\u001b[39m: \u001b[38;5;241m12\u001b[39m}\n\u001b[0;32m      9\u001b[0m ])\n\u001b[1;32m---> 10\u001b[0m conn\u001b[38;5;241m.\u001b[39mexecute(ins_users)\n\u001b[0;32m     13\u001b[0m ins_playlists \u001b[38;5;241m=\u001b[39m playlists\u001b[38;5;241m.\u001b[39minsert()\u001b[38;5;241m.\u001b[39mvalues([\n\u001b[0;32m     14\u001b[0m     {\u001b[38;5;124m'\u001b[39m\u001b[38;5;124mplaylist_id\u001b[39m\u001b[38;5;124m'\u001b[39m: \u001b[38;5;241m1\u001b[39m, \u001b[38;5;124m'\u001b[39m\u001b[38;5;124muser_id\u001b[39m\u001b[38;5;124m'\u001b[39m: \u001b[38;5;241m1\u001b[39m, \u001b[38;5;124m'\u001b[39m\u001b[38;5;124mname\u001b[39m\u001b[38;5;124m'\u001b[39m: \u001b[38;5;124m'\u001b[39m\u001b[38;5;124mChill Vibes\u001b[39m\u001b[38;5;124m'\u001b[39m, \u001b[38;5;124m'\u001b[39m\u001b[38;5;124mdescription\u001b[39m\u001b[38;5;124m'\u001b[39m: \u001b[38;5;124m'\u001b[39m\u001b[38;5;124mRelaxing and calming tracks\u001b[39m\u001b[38;5;124m'\u001b[39m},\n\u001b[0;32m     15\u001b[0m     {\u001b[38;5;124m'\u001b[39m\u001b[38;5;124mplaylist_id\u001b[39m\u001b[38;5;124m'\u001b[39m: \u001b[38;5;241m2\u001b[39m, \u001b[38;5;124m'\u001b[39m\u001b[38;5;124muser_id\u001b[39m\u001b[38;5;124m'\u001b[39m: \u001b[38;5;241m2\u001b[39m, \u001b[38;5;124m'\u001b[39m\u001b[38;5;124mname\u001b[39m\u001b[38;5;124m'\u001b[39m: \u001b[38;5;124m'\u001b[39m\u001b[38;5;124mWorkout Hits\u001b[39m\u001b[38;5;124m'\u001b[39m, \u001b[38;5;124m'\u001b[39m\u001b[38;5;124mdescription\u001b[39m\u001b[38;5;124m'\u001b[39m: \u001b[38;5;124m'\u001b[39m\u001b[38;5;124mHigh-energy songs for workouts\u001b[39m\u001b[38;5;124m'\u001b[39m},\n\u001b[1;32m   (...)\u001b[0m\n\u001b[0;32m     20\u001b[0m     {\u001b[38;5;124m'\u001b[39m\u001b[38;5;124mplaylist_id\u001b[39m\u001b[38;5;124m'\u001b[39m: \u001b[38;5;241m7\u001b[39m, \u001b[38;5;124m'\u001b[39m\u001b[38;5;124muser_id\u001b[39m\u001b[38;5;124m'\u001b[39m: \u001b[38;5;241m2\u001b[39m, \u001b[38;5;124m'\u001b[39m\u001b[38;5;124mname\u001b[39m\u001b[38;5;124m'\u001b[39m: \u001b[38;5;124m'\u001b[39m\u001b[38;5;124mParty Anthems\u001b[39m\u001b[38;5;124m'\u001b[39m, \u001b[38;5;124m'\u001b[39m\u001b[38;5;124mdescription\u001b[39m\u001b[38;5;124m'\u001b[39m: \u001b[38;5;124m'\u001b[39m\u001b[38;5;124mSongs to get the party started\u001b[39m\u001b[38;5;124m'\u001b[39m}\n\u001b[0;32m     21\u001b[0m ])\n\u001b[0;32m     22\u001b[0m conn\u001b[38;5;241m.\u001b[39mexecute(ins_playlists)\n",
      "File \u001b[1;32mD:\\DS_programms\\Lib\\site-packages\\sqlalchemy\\engine\\base.py:1416\u001b[0m, in \u001b[0;36mConnection.execute\u001b[1;34m(self, statement, parameters, execution_options)\u001b[0m\n\u001b[0;32m   1414\u001b[0m     \u001b[38;5;28;01mraise\u001b[39;00m exc\u001b[38;5;241m.\u001b[39mObjectNotExecutableError(statement) \u001b[38;5;28;01mfrom\u001b[39;00m \u001b[38;5;21;01merr\u001b[39;00m\n\u001b[0;32m   1415\u001b[0m \u001b[38;5;28;01melse\u001b[39;00m:\n\u001b[1;32m-> 1416\u001b[0m     \u001b[38;5;28;01mreturn\u001b[39;00m meth(\n\u001b[0;32m   1417\u001b[0m         \u001b[38;5;28mself\u001b[39m,\n\u001b[0;32m   1418\u001b[0m         distilled_parameters,\n\u001b[0;32m   1419\u001b[0m         execution_options \u001b[38;5;129;01mor\u001b[39;00m NO_OPTIONS,\n\u001b[0;32m   1420\u001b[0m     )\n",
      "File \u001b[1;32mD:\\DS_programms\\Lib\\site-packages\\sqlalchemy\\sql\\elements.py:517\u001b[0m, in \u001b[0;36mClauseElement._execute_on_connection\u001b[1;34m(self, connection, distilled_params, execution_options)\u001b[0m\n\u001b[0;32m    515\u001b[0m     \u001b[38;5;28;01mif\u001b[39;00m TYPE_CHECKING:\n\u001b[0;32m    516\u001b[0m         \u001b[38;5;28;01massert\u001b[39;00m \u001b[38;5;28misinstance\u001b[39m(\u001b[38;5;28mself\u001b[39m, Executable)\n\u001b[1;32m--> 517\u001b[0m     \u001b[38;5;28;01mreturn\u001b[39;00m connection\u001b[38;5;241m.\u001b[39m_execute_clauseelement(\n\u001b[0;32m    518\u001b[0m         \u001b[38;5;28mself\u001b[39m, distilled_params, execution_options\n\u001b[0;32m    519\u001b[0m     )\n\u001b[0;32m    520\u001b[0m \u001b[38;5;28;01melse\u001b[39;00m:\n\u001b[0;32m    521\u001b[0m     \u001b[38;5;28;01mraise\u001b[39;00m exc\u001b[38;5;241m.\u001b[39mObjectNotExecutableError(\u001b[38;5;28mself\u001b[39m)\n",
      "File \u001b[1;32mD:\\DS_programms\\Lib\\site-packages\\sqlalchemy\\engine\\base.py:1639\u001b[0m, in \u001b[0;36mConnection._execute_clauseelement\u001b[1;34m(self, elem, distilled_parameters, execution_options)\u001b[0m\n\u001b[0;32m   1627\u001b[0m compiled_cache: Optional[CompiledCacheType] \u001b[38;5;241m=\u001b[39m execution_options\u001b[38;5;241m.\u001b[39mget(\n\u001b[0;32m   1628\u001b[0m     \u001b[38;5;124m\"\u001b[39m\u001b[38;5;124mcompiled_cache\u001b[39m\u001b[38;5;124m\"\u001b[39m, \u001b[38;5;28mself\u001b[39m\u001b[38;5;241m.\u001b[39mengine\u001b[38;5;241m.\u001b[39m_compiled_cache\n\u001b[0;32m   1629\u001b[0m )\n\u001b[0;32m   1631\u001b[0m compiled_sql, extracted_params, cache_hit \u001b[38;5;241m=\u001b[39m elem\u001b[38;5;241m.\u001b[39m_compile_w_cache(\n\u001b[0;32m   1632\u001b[0m     dialect\u001b[38;5;241m=\u001b[39mdialect,\n\u001b[0;32m   1633\u001b[0m     compiled_cache\u001b[38;5;241m=\u001b[39mcompiled_cache,\n\u001b[1;32m   (...)\u001b[0m\n\u001b[0;32m   1637\u001b[0m     linting\u001b[38;5;241m=\u001b[39m\u001b[38;5;28mself\u001b[39m\u001b[38;5;241m.\u001b[39mdialect\u001b[38;5;241m.\u001b[39mcompiler_linting \u001b[38;5;241m|\u001b[39m compiler\u001b[38;5;241m.\u001b[39mWARN_LINTING,\n\u001b[0;32m   1638\u001b[0m )\n\u001b[1;32m-> 1639\u001b[0m ret \u001b[38;5;241m=\u001b[39m \u001b[38;5;28mself\u001b[39m\u001b[38;5;241m.\u001b[39m_execute_context(\n\u001b[0;32m   1640\u001b[0m     dialect,\n\u001b[0;32m   1641\u001b[0m     dialect\u001b[38;5;241m.\u001b[39mexecution_ctx_cls\u001b[38;5;241m.\u001b[39m_init_compiled,\n\u001b[0;32m   1642\u001b[0m     compiled_sql,\n\u001b[0;32m   1643\u001b[0m     distilled_parameters,\n\u001b[0;32m   1644\u001b[0m     execution_options,\n\u001b[0;32m   1645\u001b[0m     compiled_sql,\n\u001b[0;32m   1646\u001b[0m     distilled_parameters,\n\u001b[0;32m   1647\u001b[0m     elem,\n\u001b[0;32m   1648\u001b[0m     extracted_params,\n\u001b[0;32m   1649\u001b[0m     cache_hit\u001b[38;5;241m=\u001b[39mcache_hit,\n\u001b[0;32m   1650\u001b[0m )\n\u001b[0;32m   1651\u001b[0m \u001b[38;5;28;01mif\u001b[39;00m has_events:\n\u001b[0;32m   1652\u001b[0m     \u001b[38;5;28mself\u001b[39m\u001b[38;5;241m.\u001b[39mdispatch\u001b[38;5;241m.\u001b[39mafter_execute(\n\u001b[0;32m   1653\u001b[0m         \u001b[38;5;28mself\u001b[39m,\n\u001b[0;32m   1654\u001b[0m         elem,\n\u001b[1;32m   (...)\u001b[0m\n\u001b[0;32m   1658\u001b[0m         ret,\n\u001b[0;32m   1659\u001b[0m     )\n",
      "File \u001b[1;32mD:\\DS_programms\\Lib\\site-packages\\sqlalchemy\\engine\\base.py:1848\u001b[0m, in \u001b[0;36mConnection._execute_context\u001b[1;34m(self, dialect, constructor, statement, parameters, execution_options, *args, **kw)\u001b[0m\n\u001b[0;32m   1843\u001b[0m     \u001b[38;5;28;01mreturn\u001b[39;00m \u001b[38;5;28mself\u001b[39m\u001b[38;5;241m.\u001b[39m_exec_insertmany_context(\n\u001b[0;32m   1844\u001b[0m         dialect,\n\u001b[0;32m   1845\u001b[0m         context,\n\u001b[0;32m   1846\u001b[0m     )\n\u001b[0;32m   1847\u001b[0m \u001b[38;5;28;01melse\u001b[39;00m:\n\u001b[1;32m-> 1848\u001b[0m     \u001b[38;5;28;01mreturn\u001b[39;00m \u001b[38;5;28mself\u001b[39m\u001b[38;5;241m.\u001b[39m_exec_single_context(\n\u001b[0;32m   1849\u001b[0m         dialect, context, statement, parameters\n\u001b[0;32m   1850\u001b[0m     )\n",
      "File \u001b[1;32mD:\\DS_programms\\Lib\\site-packages\\sqlalchemy\\engine\\base.py:1988\u001b[0m, in \u001b[0;36mConnection._exec_single_context\u001b[1;34m(self, dialect, context, statement, parameters)\u001b[0m\n\u001b[0;32m   1985\u001b[0m     result \u001b[38;5;241m=\u001b[39m context\u001b[38;5;241m.\u001b[39m_setup_result_proxy()\n\u001b[0;32m   1987\u001b[0m \u001b[38;5;28;01mexcept\u001b[39;00m \u001b[38;5;167;01mBaseException\u001b[39;00m \u001b[38;5;28;01mas\u001b[39;00m e:\n\u001b[1;32m-> 1988\u001b[0m     \u001b[38;5;28mself\u001b[39m\u001b[38;5;241m.\u001b[39m_handle_dbapi_exception(\n\u001b[0;32m   1989\u001b[0m         e, str_statement, effective_parameters, cursor, context\n\u001b[0;32m   1990\u001b[0m     )\n\u001b[0;32m   1992\u001b[0m \u001b[38;5;28;01mreturn\u001b[39;00m result\n",
      "File \u001b[1;32mD:\\DS_programms\\Lib\\site-packages\\sqlalchemy\\engine\\base.py:2344\u001b[0m, in \u001b[0;36mConnection._handle_dbapi_exception\u001b[1;34m(self, e, statement, parameters, cursor, context, is_sub_exec)\u001b[0m\n\u001b[0;32m   2342\u001b[0m \u001b[38;5;28;01melif\u001b[39;00m should_wrap:\n\u001b[0;32m   2343\u001b[0m     \u001b[38;5;28;01massert\u001b[39;00m sqlalchemy_exception \u001b[38;5;129;01mis\u001b[39;00m \u001b[38;5;129;01mnot\u001b[39;00m \u001b[38;5;28;01mNone\u001b[39;00m\n\u001b[1;32m-> 2344\u001b[0m     \u001b[38;5;28;01mraise\u001b[39;00m sqlalchemy_exception\u001b[38;5;241m.\u001b[39mwith_traceback(exc_info[\u001b[38;5;241m2\u001b[39m]) \u001b[38;5;28;01mfrom\u001b[39;00m \u001b[38;5;21;01me\u001b[39;00m\n\u001b[0;32m   2345\u001b[0m \u001b[38;5;28;01melse\u001b[39;00m:\n\u001b[0;32m   2346\u001b[0m     \u001b[38;5;28;01massert\u001b[39;00m exc_info[\u001b[38;5;241m1\u001b[39m] \u001b[38;5;129;01mis\u001b[39;00m \u001b[38;5;129;01mnot\u001b[39;00m \u001b[38;5;28;01mNone\u001b[39;00m\n",
      "File \u001b[1;32mD:\\DS_programms\\Lib\\site-packages\\sqlalchemy\\engine\\base.py:1969\u001b[0m, in \u001b[0;36mConnection._exec_single_context\u001b[1;34m(self, dialect, context, statement, parameters)\u001b[0m\n\u001b[0;32m   1967\u001b[0m                 \u001b[38;5;28;01mbreak\u001b[39;00m\n\u001b[0;32m   1968\u001b[0m     \u001b[38;5;28;01mif\u001b[39;00m \u001b[38;5;129;01mnot\u001b[39;00m evt_handled:\n\u001b[1;32m-> 1969\u001b[0m         \u001b[38;5;28mself\u001b[39m\u001b[38;5;241m.\u001b[39mdialect\u001b[38;5;241m.\u001b[39mdo_execute(\n\u001b[0;32m   1970\u001b[0m             cursor, str_statement, effective_parameters, context\n\u001b[0;32m   1971\u001b[0m         )\n\u001b[0;32m   1973\u001b[0m \u001b[38;5;28;01mif\u001b[39;00m \u001b[38;5;28mself\u001b[39m\u001b[38;5;241m.\u001b[39m_has_events \u001b[38;5;129;01mor\u001b[39;00m \u001b[38;5;28mself\u001b[39m\u001b[38;5;241m.\u001b[39mengine\u001b[38;5;241m.\u001b[39m_has_events:\n\u001b[0;32m   1974\u001b[0m     \u001b[38;5;28mself\u001b[39m\u001b[38;5;241m.\u001b[39mdispatch\u001b[38;5;241m.\u001b[39mafter_cursor_execute(\n\u001b[0;32m   1975\u001b[0m         \u001b[38;5;28mself\u001b[39m,\n\u001b[0;32m   1976\u001b[0m         cursor,\n\u001b[1;32m   (...)\u001b[0m\n\u001b[0;32m   1980\u001b[0m         context\u001b[38;5;241m.\u001b[39mexecutemany,\n\u001b[0;32m   1981\u001b[0m     )\n",
      "File \u001b[1;32mD:\\DS_programms\\Lib\\site-packages\\sqlalchemy\\engine\\default.py:922\u001b[0m, in \u001b[0;36mDefaultDialect.do_execute\u001b[1;34m(self, cursor, statement, parameters, context)\u001b[0m\n\u001b[0;32m    921\u001b[0m \u001b[38;5;28;01mdef\u001b[39;00m \u001b[38;5;21mdo_execute\u001b[39m(\u001b[38;5;28mself\u001b[39m, cursor, statement, parameters, context\u001b[38;5;241m=\u001b[39m\u001b[38;5;28;01mNone\u001b[39;00m):\n\u001b[1;32m--> 922\u001b[0m     cursor\u001b[38;5;241m.\u001b[39mexecute(statement, parameters)\n",
      "\u001b[1;31mIntegrityError\u001b[0m: (sqlite3.IntegrityError) UNIQUE constraint failed: users.user_id\n[SQL: INSERT INTO users (user_id, username, email, password, region, sub_period) VALUES (?, ?, ?, ?, ?, ?), (?, ?, ?, ?, ?, ?), (?, ?, ?, ?, ?, ?), (?, ?, ?, ?, ?, ?), (?, ?, ?, ?, ?, ?), (?, ?, ?, ?, ?, ?), (?, ?, ?, ?, ?, ?)]\n[parameters: (1, 'user1', 'user1@gmail.com', 'pass1', 'North America', 12, 2, 'user2', 'user2@yandex.ru', 'pass2', 'Europe', 3, 3, 'user3', 'user3@yahoo.com', 'pass3', 'South America', 6, 4, 'user4', 'user4@proton.me', 'pass4', 'Europe', 1, 5, 'user5', 'user5@yandex.ru', 'pass5', 'Asia', 12, 6, 'user6', 'user6@gmail.com', 'pass6', 'Africa', 6, 7, 'user7', 'user7@yahoo.com', 'pass7', 'Europe', 12)]\n(Background on this error at: https://sqlalche.me/e/20/gkpj)"
     ]
    }
   ],
   "source": [
    "ins_users = users.insert().values([\n",
    "    {'user_id': 1, 'username': 'user1', 'email': 'user1@gmail.com', 'password': 'pass1', 'region': 'North America', 'sub_period': 12},\n",
    "    {'user_id': 2, 'username': 'user2', 'email': 'user2@yandex.ru', 'password': 'pass2', 'region': 'Europe', 'sub_period': 3},\n",
    "    {'user_id': 3, 'username': 'user3', 'email': 'user3@yahoo.com', 'password': 'pass3', 'region': 'South America', 'sub_period': 6},\n",
    "    {'user_id': 4, 'username': 'user4', 'email': 'user4@proton.me', 'password': 'pass4', 'region': 'Europe', 'sub_period': 1},\n",
    "    {'user_id': 5, 'username': 'user5', 'email': 'user5@yandex.ru', 'password': 'pass5', 'region': 'Asia', 'sub_period': 12},\n",
    "    {'user_id': 6, 'username': 'user6', 'email': 'user6@gmail.com', 'password': 'pass6', 'region': 'Africa', 'sub_period': 6},\n",
    "    {'user_id': 7, 'username': 'user7', 'email': 'user7@yahoo.com', 'password': 'pass7', 'region': 'Europe', 'sub_period': 12}\n",
    "])\n",
    "conn.execute(ins_users)\n",
    "\n",
    "\n",
    "ins_playlists = playlists.insert().values([\n",
    "    {'playlist_id': 1, 'user_id': 1, 'name': 'Chill Vibes', 'description': 'Relaxing and calming tracks'},\n",
    "    {'playlist_id': 2, 'user_id': 2, 'name': 'Workout Hits', 'description': 'High-energy songs for workouts'},\n",
    "    {'playlist_id': 3, 'user_id': 4, 'name': 'Top 40', 'description': 'Current top hits'},\n",
    "    {'playlist_id': 4, 'user_id': 1, 'name': 'Classical Essentials', 'description': 'Essential classical pieces'},\n",
    "    {'playlist_id': 5, 'user_id': 4, 'name': 'Jazz Classics', 'description': 'Timeless jazz tracks'},\n",
    "    {'playlist_id': 6, 'user_id': 6, 'name': 'Indie Mix', 'description': 'Best of indie music'},\n",
    "    {'playlist_id': 7, 'user_id': 2, 'name': 'Party Anthems', 'description': 'Songs to get the party started'}\n",
    "])\n",
    "conn.execute(ins_playlists)\n",
    "\n",
    "\n",
    "ins_songs = songs.insert().values([\n",
    "    {'song_id': 1, 'artist_id': 1, 'genre': 'Pop', 'album': 'Album1', 'duration': 210, 'release_date': 2023},\n",
    "    {'song_id': 2, 'artist_id': 2, 'genre': 'Rock', 'album': 'Album2', 'duration': 180, 'release_date': 2020},\n",
    "    {'song_id': 3, 'artist_id': 3, 'genre': 'Hip-Hop', 'album': 'Album3', 'duration': 200, 'release_date': 2017},\n",
    "    {'song_id': 4, 'artist_id': 4, 'genre': 'Classical', 'album': 'Album4', 'duration': 240, 'release_date': 2024},\n",
    "    {'song_id': 5, 'artist_id': 5, 'genre': 'Jazz', 'album': 'Album5', 'duration': 300, 'release_date': 2019},\n",
    "    {'song_id': 6, 'artist_id': 6, 'genre': 'Indie', 'album': 'Album6', 'duration': 220, 'release_date': 2015},\n",
    "    {'song_id': 7, 'artist_id': 7, 'genre': 'Pop', 'album': 'Album7', 'duration': 210, 'release_date': 2016}\n",
    "])\n",
    "conn.execute(ins_songs)\n",
    "\n",
    "\n",
    "ins_artists = artists.insert().values([\n",
    "    {'artist_id': 1, 'name': 'Taylor Swift', 'genre': 'Pop', 'bio': 'Gorgeous and talented'},\n",
    "    {'artist_id': 2, 'name': 'Lana Del Rey', 'genre': 'Rock', 'bio': 'Mother'},\n",
    "    {'artist_id': 3, 'name': 'Nicki Minaj', 'genre': 'Hip-Hop', 'bio': 'Not a big foot'},\n",
    "    {'artist_id': 4, 'name': 'Luciano Pavarotti', 'genre': 'Classical', 'bio': 'King of the High Cs'},\n",
    "    {'artist_id': 5, 'name': 'Louis Armstrong', 'genre': 'Jazz', 'bio': 'Not that Armstrong'},\n",
    "    {'artist_id': 6, 'name': 'Lana Del Rey', 'genre': 'Indie', 'bio': 'Mother'},\n",
    "    {'artist_id': 7, 'name': 'Olivia Rodrigo', 'genre': 'Pop', 'bio': \"Conan Gray's bestie\"}\n",
    "]) \n",
    "conn.execute(ins_artists)"
   ]
  },
  {
   "cell_type": "code",
   "execution_count": 56,
   "metadata": {
    "tags": []
   },
   "outputs": [
    {
     "data": {
      "text/plain": [
       "[('North America',), ('Europe',)]"
      ]
     },
     "execution_count": 56,
     "metadata": {},
     "output_type": "execute_result"
    }
   ],
   "source": [
    "#After any query .execute() and .fetchall() are used\n",
    "#Fetchall() is a method that fetches all the remaining tuples from the last executed statement from a table\n",
    "#To choose a column, db.select(tablename.c.columnname) sytnax is used\n",
    "select_users = db.select(users.c.region).limit(2)\n",
    "conn.execute(select_users).fetchall()"
   ]
  },
  {
   "cell_type": "code",
   "execution_count": 58,
   "metadata": {
    "tags": []
   },
   "outputs": [
    {
     "data": {
      "text/plain": [
       "[('Africa', 6),\n",
       " ('Asia', 12),\n",
       " ('Europe', 3),\n",
       " ('North America', 12),\n",
       " ('South America', 6)]"
      ]
     },
     "execution_count": 58,
     "metadata": {},
     "output_type": "execute_result"
    }
   ],
   "source": [
    "groupby_users = db.select(users.c.region, users.c.sub_period).group_by(users.c.region).having(users.c.sub_period >= 3)\n",
    "conn.execute(groupby_users).fetchall()"
   ]
  },
  {
   "cell_type": "code",
   "execution_count": 60,
   "metadata": {
    "tags": []
   },
   "outputs": [
    {
     "data": {
      "text/plain": [
       "[(1, 'user1', 'North America', 'Chill Vibes', 'Relaxing and calming tracks'),\n",
       " (2, 'user2', 'Europe', 'Workout Hits', 'High-energy songs for workouts'),\n",
       " (4, 'user4', 'Europe', 'Top 40', 'Current top hits'),\n",
       " (1, 'user1', 'North America', 'Classical Essentials', 'Essential classical pieces'),\n",
       " (4, 'user4', 'Europe', 'Jazz Classics', 'Timeless jazz tracks'),\n",
       " (6, 'user6', 'Africa', 'Indie Mix', 'Best of indie music'),\n",
       " (2, 'user2', 'Europe', 'Party Anthems', 'Songs to get the party started')]"
      ]
     },
     "execution_count": 60,
     "metadata": {},
     "output_type": "execute_result"
    }
   ],
   "source": [
    "innerjoin = db.select(users.c.user_id, users.c.username, users.c.region,\n",
    "                      playlists.c.name, playlists.c.description).select_from(users).join(playlists,\n",
    "                                                                                         users.c.user_id == playlists.c.user_id)\n",
    "conn.execute(innerjoin).fetchall()"
   ]
  },
  {
   "cell_type": "code",
   "execution_count": 62,
   "metadata": {
    "tags": []
   },
   "outputs": [
    {
     "data": {
      "text/plain": [
       "[(1, 'Pop', 'Taylor Swift'),\n",
       " (2, 'Rock', 'Lana Del Rey'),\n",
       " (3, 'Hip-Hop', 'Nicki Minaj'),\n",
       " (4, 'Classical', 'Luciano Pavarotti'),\n",
       " (5, 'Jazz', 'Louis Armstrong'),\n",
       " (6, 'Indie', 'Lana Del Rey'),\n",
       " (7, 'Pop', 'Olivia Rodrigo')]"
      ]
     },
     "execution_count": 62,
     "metadata": {},
     "output_type": "execute_result"
    }
   ],
   "source": [
    "leftouterjoin = db.select(songs.c.artist_id, songs.c.genre, artists.c.name).select_from(songs).join(artists,\n",
    "                                                                                                    songs.c.artist_id == artists.c.artist_id, isouter=True)\n",
    "conn.execute(leftouterjoin).fetchall()"
   ]
  },
  {
   "cell_type": "code",
   "execution_count": 64,
   "metadata": {
    "tags": []
   },
   "outputs": [
    {
     "ename": "NotImplementedError",
     "evalue": "The default SELECT construct without plugins does not implement this method.",
     "output_type": "error",
     "traceback": [
      "\u001b[1;31m---------------------------------------------------------------------------\u001b[0m",
      "\u001b[1;31mNotImplementedError\u001b[0m                       Traceback (most recent call last)",
      "Cell \u001b[1;32mIn[64], line 2\u001b[0m\n\u001b[0;32m      1\u001b[0m rightouterjoin \u001b[38;5;241m=\u001b[39m db\u001b[38;5;241m.\u001b[39mselect(songs\u001b[38;5;241m.\u001b[39mc\u001b[38;5;241m.\u001b[39martist_id, songs\u001b[38;5;241m.\u001b[39mc\u001b[38;5;241m.\u001b[39mgenre, artists\u001b[38;5;241m.\u001b[39mc\u001b[38;5;241m.\u001b[39mname, artists\u001b[38;5;241m.\u001b[39mc\u001b[38;5;241m.\u001b[39mbio)\u001b[38;5;241m.\u001b[39mselect_from(songs)\u001b[38;5;241m.\u001b[39mjoin(\n\u001b[1;32m----> 2\u001b[0m     artists, songs\u001b[38;5;241m.\u001b[39mc\u001b[38;5;241m.\u001b[39martist_id \u001b[38;5;241m==\u001b[39m artists\u001b[38;5;241m.\u001b[39mc\u001b[38;5;241m.\u001b[39martist_id, isouter\u001b[38;5;241m=\u001b[39m\u001b[38;5;28;01mTrue\u001b[39;00m)\u001b[38;5;241m.\u001b[39mfrom_statement(\u001b[38;5;124m\"\u001b[39m\u001b[38;5;124mRIGHT JOIN artists ON songs.artist_id = artists.artist_id\u001b[39m\u001b[38;5;124m\"\u001b[39m)\n\u001b[0;32m      3\u001b[0m conn\u001b[38;5;241m.\u001b[39mexecute(rightouterjoin)\u001b[38;5;241m.\u001b[39mfetchall()\n",
      "File \u001b[1;32mD:\\DS_programms\\Lib\\site-packages\\sqlalchemy\\sql\\selectable.py:5276\u001b[0m, in \u001b[0;36mSelect.from_statement\u001b[1;34m(self, statement)\u001b[0m\n\u001b[0;32m   5256\u001b[0m \u001b[38;5;250m\u001b[39m\u001b[38;5;124;03m\"\"\"Apply the columns which this :class:`.Select` would select\u001b[39;00m\n\u001b[0;32m   5257\u001b[0m \u001b[38;5;124;03monto another statement.\u001b[39;00m\n\u001b[0;32m   5258\u001b[0m \n\u001b[1;32m   (...)\u001b[0m\n\u001b[0;32m   5273\u001b[0m \n\u001b[0;32m   5274\u001b[0m \u001b[38;5;124;03m\"\"\"\u001b[39;00m\n\u001b[0;32m   5275\u001b[0m meth \u001b[38;5;241m=\u001b[39m SelectState\u001b[38;5;241m.\u001b[39mget_plugin_class(\u001b[38;5;28mself\u001b[39m)\u001b[38;5;241m.\u001b[39mfrom_statement\n\u001b[1;32m-> 5276\u001b[0m \u001b[38;5;28;01mreturn\u001b[39;00m meth(\u001b[38;5;28mself\u001b[39m, statement)\n",
      "File \u001b[1;32mD:\\DS_programms\\Lib\\site-packages\\sqlalchemy\\sql\\selectable.py:4538\u001b[0m, in \u001b[0;36mSelectState.from_statement\u001b[1;34m(cls, statement, from_statement)\u001b[0m\n\u001b[0;32m   4534\u001b[0m \u001b[38;5;129m@classmethod\u001b[39m\n\u001b[0;32m   4535\u001b[0m \u001b[38;5;28;01mdef\u001b[39;00m \u001b[38;5;21mfrom_statement\u001b[39m(\n\u001b[0;32m   4536\u001b[0m     \u001b[38;5;28mcls\u001b[39m, statement: Select[Any], from_statement: roles\u001b[38;5;241m.\u001b[39mReturnsRowsRole\n\u001b[0;32m   4537\u001b[0m ) \u001b[38;5;241m-\u001b[39m\u001b[38;5;241m>\u001b[39m ExecutableReturnsRows:\n\u001b[1;32m-> 4538\u001b[0m     \u001b[38;5;28mcls\u001b[39m\u001b[38;5;241m.\u001b[39m_plugin_not_implemented()\n",
      "File \u001b[1;32mD:\\DS_programms\\Lib\\site-packages\\sqlalchemy\\sql\\selectable.py:4514\u001b[0m, in \u001b[0;36mSelectState._plugin_not_implemented\u001b[1;34m(cls)\u001b[0m\n\u001b[0;32m   4512\u001b[0m \u001b[38;5;129m@classmethod\u001b[39m\n\u001b[0;32m   4513\u001b[0m \u001b[38;5;28;01mdef\u001b[39;00m \u001b[38;5;21m_plugin_not_implemented\u001b[39m(\u001b[38;5;28mcls\u001b[39m) \u001b[38;5;241m-\u001b[39m\u001b[38;5;241m>\u001b[39m NoReturn:\n\u001b[1;32m-> 4514\u001b[0m     \u001b[38;5;28;01mraise\u001b[39;00m \u001b[38;5;167;01mNotImplementedError\u001b[39;00m(\n\u001b[0;32m   4515\u001b[0m         \u001b[38;5;124m\"\u001b[39m\u001b[38;5;124mThe default SELECT construct without plugins does not \u001b[39m\u001b[38;5;124m\"\u001b[39m\n\u001b[0;32m   4516\u001b[0m         \u001b[38;5;124m\"\u001b[39m\u001b[38;5;124mimplement this method.\u001b[39m\u001b[38;5;124m\"\u001b[39m\n\u001b[0;32m   4517\u001b[0m     )\n",
      "\u001b[1;31mNotImplementedError\u001b[0m: The default SELECT construct without plugins does not implement this method."
     ]
    }
   ],
   "source": [
    "rightouterjoin = db.select(songs.c.artist_id, songs.c.genre, artists.c.name, artists.c.bio).select_from(songs).join(\n",
    "    artists, songs.c.artist_id == artists.c.artist_id, isouter=True).from_statement(\"RIGHT JOIN artists ON songs.artist_id = artists.artist_id\")\n",
    "conn.execute(rightouterjoin).fetchall()"
   ]
  },
  {
   "cell_type": "code",
   "execution_count": 66,
   "metadata": {
    "tags": []
   },
   "outputs": [
    {
     "name": "stdout",
     "output_type": "stream",
     "text": [
      "[('Classical', 'Album4', 2024), ('Hip-Hop', 'Album3', 2017), ('Indie', 'Album6', 2015), ('Jazz', 'Album5', 2019), ('Pop', 'Album1', 2023), ('Pop', 'Album7', 2016), ('Rock', 'Album2', 2020)]\n"
     ]
    },
    {
     "name": "stderr",
     "output_type": "stream",
     "text": [
      "C:\\Users\\user\\AppData\\Local\\Temp\\ipykernel_7572\\2059828673.py:5: SAWarning: implicitly coercing SELECT object to scalar subquery; please use the .scalar_subquery() method to produce a scalar subquery.\n",
      "  q3 = db.select(songs.c.genre, songs.c.album, songs.c.release_date).where(db.select(func.length(songs.c.genre) >= 3))\n"
     ]
    }
   ],
   "source": [
    "from sqlalchemy import between\n",
    "from sqlalchemy import func\n",
    "q1 = db.select(songs.c.genre, songs.c.album, songs.c.release_date).where(songs.c.duration >= 240)\n",
    "q2 = db.select(songs.c.genre, songs.c.album, songs.c.release_date).where(between(songs.c.release_date, 2015, 2020))\n",
    "q3 = db.select(songs.c.genre, songs.c.album, songs.c.release_date).where(db.select(func.length(songs.c.genre) >= 3))\n",
    "union_q = db.union(q1, q2, q3)\n",
    "print(conn.execute(union_q).fetchall())"
   ]
  },
  {
   "cell_type": "code",
   "execution_count": null,
   "metadata": {},
   "outputs": [],
   "source": []
  },
  {
   "cell_type": "code",
   "execution_count": null,
   "metadata": {},
   "outputs": [],
   "source": []
  }
 ],
 "metadata": {
  "kernelspec": {
   "display_name": "Python 3 (ipykernel)",
   "language": "python",
   "name": "python3"
  },
  "language_info": {
   "codemirror_mode": {
    "name": "ipython",
    "version": 3
   },
   "file_extension": ".py",
   "mimetype": "text/x-python",
   "name": "python",
   "nbconvert_exporter": "python",
   "pygments_lexer": "ipython3",
   "version": "3.11.7"
  }
 },
 "nbformat": 4,
 "nbformat_minor": 4
}
