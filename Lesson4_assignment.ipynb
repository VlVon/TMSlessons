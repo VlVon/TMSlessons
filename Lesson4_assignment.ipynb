{
 "cells": [
  {
   "cell_type": "code",
   "execution_count": 3,
   "id": "4ab25aa9-9a3d-4873-908f-314ec0a10659",
   "metadata": {
    "tags": []
   },
   "outputs": [],
   "source": [
    "#Task 1. Calculate the equation."
   ]
  },
  {
   "cell_type": "code",
   "execution_count": 6,
   "id": "a6c6ff7b-133c-4655-8987-b821c0a9984a",
   "metadata": {
    "tags": []
   },
   "outputs": [
    {
     "name": "stdout",
     "output_type": "stream",
     "text": [
      "3.7230820101533424\n"
     ]
    }
   ],
   "source": [
    "import math\n",
    "def trigon(x):\n",
    "    y = (math.cos(math.exp(x)) + math.log((1 + x) ** 2) + (math.exp(math.cos(x)) \n",
    "        + (math.sin(math.pi * x)) ** 2) ** 0.5 + (1 / x) ** 0.5 + math.cos(x ** 2)) ** math.sin(x)\n",
    "    return print(y)\n",
    "trigon(1.79)"
   ]
  },
  {
   "cell_type": "code",
   "execution_count": 9,
   "id": "799bfcb4-6762-48bc-b294-3fef1d71d220",
   "metadata": {
    "tags": []
   },
   "outputs": [],
   "source": [
    "#Task 2. Find the substring if U dare."
   ]
  },
  {
   "cell_type": "code",
   "execution_count": 11,
   "id": "d2929be9-39db-4252-b1c4-ba6738d5b2b9",
   "metadata": {
    "tags": []
   },
   "outputs": [
    {
     "name": "stdout",
     "output_type": "stream",
     "text": [
      "Мимо!\n"
     ]
    }
   ],
   "source": [
    "def search_substr(subst, st):\n",
    "    if (st.lower().find(subst.lower())) == 1:\n",
    "        return print('Есть контакт!')\n",
    "    else:\n",
    "        return print(\"Мимо!\")\n",
    "search_substr('tt', 'aqwer')"
   ]
  },
  {
   "cell_type": "code",
   "execution_count": 13,
   "id": "6e0ee937-d1b6-4e8f-bb6a-360439598d8d",
   "metadata": {
    "tags": []
   },
   "outputs": [],
   "source": [
    "#Task 3. Depict 3 most common characters."
   ]
  },
  {
   "cell_type": "code",
   "execution_count": 15,
   "id": "39f09800-911f-4fb5-bdb7-8a7e3d1de7f1",
   "metadata": {
    "tags": []
   },
   "outputs": [
    {
     "name": "stdout",
     "output_type": "stream",
     "text": [
      "[('i', 8), ('h', 7), ('o', 6)]\n"
     ]
    }
   ],
   "source": [
    "from collections import Counter\n",
    "a = ' AA2hoh 8fhkh gfkerhl jkh giushoi; uoiujoioligjeiolgji;bjib'\n",
    "c = Counter(a.replace(' ', '')).most_common(3)\n",
    "print(c)"
   ]
  },
  {
   "cell_type": "code",
   "execution_count": 17,
   "id": "685c1c58-f8ec-4c96-9488-81be5dbca234",
   "metadata": {
    "tags": []
   },
   "outputs": [],
   "source": [
    "#Task 4. Depict 3 most common digits."
   ]
  },
  {
   "cell_type": "code",
   "execution_count": 19,
   "id": "88b9f73e-6cdf-42e6-99dc-bdcb1e606136",
   "metadata": {
    "tags": []
   },
   "outputs": [
    {
     "name": "stdout",
     "output_type": "stream",
     "text": [
      "{'1': 6, '2': 5, '4': 3}\n"
     ]
    }
   ],
   "source": [
    "from collections import Counter\n",
    "def count_it(sequence):\n",
    "    new_dict = dict(Counter(sequence).most_common(3))\n",
    "    return print(new_dict)\n",
    "count_it('1111112222244499')"
   ]
  },
  {
   "cell_type": "code",
   "execution_count": 21,
   "id": "89ee3527-6c49-4030-9008-96ffe5ca9338",
   "metadata": {
    "tags": []
   },
   "outputs": [],
   "source": [
    "#Task 5. Play chess and don't die. Define whether there is a threat from the opponent or not."
   ]
  },
  {
   "cell_type": "code",
   "execution_count": 24,
   "id": "e7a7f387-ddd7-46ff-a454-0404b3bf300b",
   "metadata": {
    "tags": []
   },
   "outputs": [],
   "source": [
    "#Case 1. A Queen."
   ]
  },
  {
   "cell_type": "code",
   "execution_count": 26,
   "id": "756dfd80-1762-410c-8357-c9596f11fee1",
   "metadata": {
    "tags": []
   },
   "outputs": [
    {
     "name": "stdout",
     "output_type": "stream",
     "text": [
      "Не угрожает!\n"
     ]
    }
   ],
   "source": [
    "def threaten_q(mine, opp):\n",
    "    for i in range(1, 7):\n",
    "        if mine[0] == opp[0] or mine[1] == opp[1]:\n",
    "            print('Угрожает!')\n",
    "            return\n",
    "        elif opp[1] == mine[1] + i and ord(opp[0]) == ord(mine[0]) + i:\n",
    "            print('Угрожает!')\n",
    "            return\n",
    "        elif opp[1] == mine[1] - i and ord(opp[0]) == ord(mine[0]) - i:\n",
    "            print('Угрожает!')\n",
    "            return\n",
    "        elif opp[1] == mine[1] - i and ord(opp[0]) == ord(mine[0]) + i:\n",
    "            print('Угрожает!')\n",
    "            return\n",
    "        elif opp[1] == mine[1] + i and ord(opp[0]) == ord(mine[0]) - i:\n",
    "            print('Угрожает!')\n",
    "            return\n",
    "    print('Не угрожает!')\n",
    "threaten_q(('c', 3), ('d', 7))"
   ]
  },
  {
   "cell_type": "code",
   "execution_count": 28,
   "id": "361cf819-1e66-46ae-95d7-64a133d52fcb",
   "metadata": {
    "tags": []
   },
   "outputs": [],
   "source": [
    "#Case 2. A Knight."
   ]
  },
  {
   "cell_type": "code",
   "execution_count": 30,
   "id": "e30290cf-bb73-46cd-89bf-d67a78d57237",
   "metadata": {
    "tags": []
   },
   "outputs": [
    {
     "name": "stdout",
     "output_type": "stream",
     "text": [
      "Не угрожает!\n"
     ]
    }
   ],
   "source": [
    "def threaten_k(mine, opp):\n",
    "    if opp[1] == mine[1] - 1 and ((ord(opp[0]) == ord(mine[0]) - 2) or (ord(opp[0]) == ord(mine[0]) + 2)):\n",
    "        print('Угрожает!')\n",
    "        return\n",
    "    elif opp[1] == mine[1] + 1 and ((ord(opp[0]) == ord(mine[0]) - 2) or (ord(opp[0]) == ord(mine[0]) + 2)):\n",
    "        print('Угрожает!')\n",
    "        return\n",
    "    elif opp[1] == mine[1] - 2 and ((ord(opp[0]) == ord(mine[0]) - 1) or (ord(opp[0]) == ord(mine[0]) + 1)):\n",
    "        print('Угрожает!')\n",
    "        return\n",
    "    elif opp[1] == mine[1] + 2 and ((ord(opp[0]) == ord(mine[0]) - 1) or (ord(opp[0]) == ord(mine[0]) + 1)):\n",
    "        print('Угрожает!')\n",
    "        return\n",
    "    print('Не угрожает!')\n",
    "threaten_k(('h', 6), ('g', 7))"
   ]
  },
  {
   "cell_type": "code",
   "execution_count": null,
   "id": "266ae331-1c8d-4374-b009-7eca538af86f",
   "metadata": {},
   "outputs": [],
   "source": []
  }
 ],
 "metadata": {
  "kernelspec": {
   "display_name": "Python 3 (ipykernel)",
   "language": "python",
   "name": "python3"
  },
  "language_info": {
   "codemirror_mode": {
    "name": "ipython",
    "version": 3
   },
   "file_extension": ".py",
   "mimetype": "text/x-python",
   "name": "python",
   "nbconvert_exporter": "python",
   "pygments_lexer": "ipython3",
   "version": "3.11.7"
  }
 },
 "nbformat": 4,
 "nbformat_minor": 5
}
